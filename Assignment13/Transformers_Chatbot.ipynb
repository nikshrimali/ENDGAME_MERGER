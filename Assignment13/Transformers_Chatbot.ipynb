{
  "nbformat": 4,
  "nbformat_minor": 0,
  "metadata": {
    "colab": {
      "name": "Transformers-Chatbot.ipynb",
      "provenance": [],
      "authorship_tag": "ABX9TyO7kt1aE2v3ny8zu9tJ0Cv0",
      "include_colab_link": true
    },
    "kernelspec": {
      "name": "python3",
      "display_name": "Python 3"
    },
    "accelerator": "GPU"
  },
  "cells": [
    {
      "cell_type": "markdown",
      "metadata": {
        "id": "view-in-github",
        "colab_type": "text"
      },
      "source": [
        "<a href=\"https://colab.research.google.com/github/nikshrimali/ENDGAME_MERGER/blob/main/Assignment13/Transformers_Chatbot.ipynb\" target=\"_parent\"><img src=\"https://colab.research.google.com/assets/colab-badge.svg\" alt=\"Open In Colab\"/></a>"
      ]
    },
    {
      "cell_type": "code",
      "metadata": {
        "id": "wwFOelvipJhm"
      },
      "source": [
        "from __future__ import absolute_import\r\n",
        "from __future__ import division\r\n",
        "from __future__ import print_function\r\n",
        "from __future__ import unicode_literals\r\n",
        "\r\n",
        "import torch\r\n",
        "from torch.jit import script, trace\r\n",
        "import torch.nn as nn\r\n",
        "from torch import optim\r\n",
        "import torch.nn.functional as F\r\n",
        "import csv\r\n",
        "import random\r\n",
        "import re\r\n",
        "import os\r\n",
        "import unicodedata\r\n",
        "import codecs\r\n",
        "from io import open\r\n",
        "import itertools\r\n",
        "import math\r\n",
        "\r\n",
        "from torchtext.data import Field, BucketIterator, LabelField, TabularDataset\r\n",
        "\r\n",
        "\r\n",
        "USE_CUDA = torch.cuda.is_available()\r\n",
        "device = torch.device(\"cuda\" if USE_CUDA else \"cpu\")"
      ],
      "execution_count": 1,
      "outputs": []
    },
    {
      "cell_type": "code",
      "metadata": {
        "colab": {
          "base_uri": "https://localhost:8080/"
        },
        "id": "Lltg5nhPpclM",
        "outputId": "d2cec09a-8e5b-43b0-b0ec-8cc8c8733ea9"
      },
      "source": [
        "# Getting the zip cornel movie dialogs file. We will use this dataset to train our chatbot\r\n",
        "!wget 'http://www.cs.cornell.edu/~cristian/data/cornell_movie_dialogs_corpus.zip'"
      ],
      "execution_count": 2,
      "outputs": [
        {
          "output_type": "stream",
          "text": [
            "--2021-02-13 10:36:54--  http://www.cs.cornell.edu/~cristian/data/cornell_movie_dialogs_corpus.zip\n",
            "Resolving www.cs.cornell.edu (www.cs.cornell.edu)... 132.236.207.36\n",
            "Connecting to www.cs.cornell.edu (www.cs.cornell.edu)|132.236.207.36|:80... connected.\n",
            "HTTP request sent, awaiting response... 200 OK\n",
            "Length: 9916637 (9.5M) [application/zip]\n",
            "Saving to: ‘cornell_movie_dialogs_corpus.zip’\n",
            "\n",
            "cornell_movie_dialo 100%[===================>]   9.46M  38.9MB/s    in 0.2s    \n",
            "\n",
            "2021-02-13 10:36:54 (38.9 MB/s) - ‘cornell_movie_dialogs_corpus.zip’ saved [9916637/9916637]\n",
            "\n"
          ],
          "name": "stdout"
        }
      ]
    },
    {
      "cell_type": "code",
      "metadata": {
        "colab": {
          "base_uri": "https://localhost:8080/"
        },
        "id": "tTWp6JP3pttm",
        "outputId": "5b1f795b-bad0-49c6-95b2-3d786e1fe847"
      },
      "source": [
        "# Unzip the dataset\r\n",
        "!unzip '/content/cornell_movie_dialogs_corpus.zip'"
      ],
      "execution_count": 3,
      "outputs": [
        {
          "output_type": "stream",
          "text": [
            "Archive:  /content/cornell_movie_dialogs_corpus.zip\n",
            "   creating: cornell movie-dialogs corpus/\n",
            "  inflating: cornell movie-dialogs corpus/.DS_Store  \n",
            "   creating: __MACOSX/\n",
            "   creating: __MACOSX/cornell movie-dialogs corpus/\n",
            "  inflating: __MACOSX/cornell movie-dialogs corpus/._.DS_Store  \n",
            "  inflating: cornell movie-dialogs corpus/chameleons.pdf  \n",
            "  inflating: __MACOSX/cornell movie-dialogs corpus/._chameleons.pdf  \n",
            "  inflating: cornell movie-dialogs corpus/movie_characters_metadata.txt  \n",
            "  inflating: cornell movie-dialogs corpus/movie_conversations.txt  \n",
            "  inflating: cornell movie-dialogs corpus/movie_lines.txt  \n",
            "  inflating: cornell movie-dialogs corpus/movie_titles_metadata.txt  \n",
            "  inflating: cornell movie-dialogs corpus/raw_script_urls.txt  \n",
            "  inflating: cornell movie-dialogs corpus/README.txt  \n",
            "  inflating: __MACOSX/cornell movie-dialogs corpus/._README.txt  \n"
          ],
          "name": "stdout"
        }
      ]
    },
    {
      "cell_type": "code",
      "metadata": {
        "colab": {
          "base_uri": "https://localhost:8080/"
        },
        "id": "TIct0wc1p6Mx",
        "outputId": "65bb18b3-f8a7-4be7-9690-55b85c6d52da"
      },
      "source": [
        "corpus_name = \"cornell movie-dialogs corpus\"\r\n",
        "corpus = os.path.join(\"/content/\", corpus_name)\r\n",
        "\r\n",
        "def printLines(file, n=10):\r\n",
        "    with open(file, 'rb') as datafile:\r\n",
        "        lines = datafile.readlines()\r\n",
        "    for line in lines[:n]:\r\n",
        "        print(line)\r\n",
        "\r\n",
        "printLines(os.path.join(corpus, \"movie_lines.txt\"))"
      ],
      "execution_count": 4,
      "outputs": [
        {
          "output_type": "stream",
          "text": [
            "b'L1045 +++$+++ u0 +++$+++ m0 +++$+++ BIANCA +++$+++ They do not!\\n'\n",
            "b'L1044 +++$+++ u2 +++$+++ m0 +++$+++ CAMERON +++$+++ They do to!\\n'\n",
            "b'L985 +++$+++ u0 +++$+++ m0 +++$+++ BIANCA +++$+++ I hope so.\\n'\n",
            "b'L984 +++$+++ u2 +++$+++ m0 +++$+++ CAMERON +++$+++ She okay?\\n'\n",
            "b\"L925 +++$+++ u0 +++$+++ m0 +++$+++ BIANCA +++$+++ Let's go.\\n\"\n",
            "b'L924 +++$+++ u2 +++$+++ m0 +++$+++ CAMERON +++$+++ Wow\\n'\n",
            "b\"L872 +++$+++ u0 +++$+++ m0 +++$+++ BIANCA +++$+++ Okay -- you're gonna need to learn how to lie.\\n\"\n",
            "b'L871 +++$+++ u2 +++$+++ m0 +++$+++ CAMERON +++$+++ No\\n'\n",
            "b'L870 +++$+++ u0 +++$+++ m0 +++$+++ BIANCA +++$+++ I\\'m kidding.  You know how sometimes you just become this \"persona\"?  And you don\\'t know how to quit?\\n'\n",
            "b'L869 +++$+++ u0 +++$+++ m0 +++$+++ BIANCA +++$+++ Like my fear of wearing pastels?\\n'\n"
          ],
          "name": "stdout"
        }
      ]
    },
    {
      "cell_type": "code",
      "metadata": {
        "id": "sHzh4RbwrgpT"
      },
      "source": [
        "# Splits each line of the file into a dictionary of fields\r\n",
        "def loadLines(fileName, fields):\r\n",
        "    lines = {}\r\n",
        "    with open(fileName, 'r', encoding='iso-8859-1') as f:\r\n",
        "        for line in f:\r\n",
        "            values = line.split(\" +++$+++ \")\r\n",
        "            # Extract fields\r\n",
        "            lineObj = {}\r\n",
        "            for i, field in enumerate(fields):\r\n",
        "                lineObj[field] = values[i]\r\n",
        "            lines[lineObj['lineID']] = lineObj\r\n",
        "    return lines\r\n",
        "\r\n",
        "\r\n",
        "# Groups fields of lines from `loadLines` into conversations based on *movie_conversations.txt*\r\n",
        "def loadConversations(fileName, lines, fields):\r\n",
        "    conversations = []\r\n",
        "    with open(fileName, 'r', encoding='iso-8859-1') as f:\r\n",
        "        for line in f:\r\n",
        "            values = line.split(\" +++$+++ \")\r\n",
        "            # Extract fields\r\n",
        "            convObj = {}\r\n",
        "            for i, field in enumerate(fields):\r\n",
        "                convObj[field] = values[i]\r\n",
        "            # Convert string to list (convObj[\"utteranceIDs\"] == \"['L598485', 'L598486', ...]\")\r\n",
        "            utterance_id_pattern = re.compile('L[0-9]+')\r\n",
        "            lineIds = utterance_id_pattern.findall(convObj[\"utteranceIDs\"])\r\n",
        "            # Reassemble lines\r\n",
        "            convObj[\"lines\"] = []\r\n",
        "            for lineId in lineIds:\r\n",
        "                convObj[\"lines\"].append(lines[lineId])\r\n",
        "            conversations.append(convObj)\r\n",
        "    return conversations\r\n",
        "\r\n",
        "\r\n",
        "# Extracts pairs of sentences from conversations\r\n",
        "def extractSentencePairs(conversations):\r\n",
        "    qa_pairs = []\r\n",
        "    for conversation in conversations:\r\n",
        "        # Iterate over all the lines of the conversation\r\n",
        "        for i in range(len(conversation[\"lines\"]) - 1):  # We ignore the last line (no answer for it)\r\n",
        "            inputLine = conversation[\"lines\"][i][\"text\"].strip()\r\n",
        "            targetLine = conversation[\"lines\"][i+1][\"text\"].strip()\r\n",
        "            # Filter wrong samples (if one of the lists is empty)\r\n",
        "            if inputLine and targetLine:\r\n",
        "                qa_pairs.append([inputLine, targetLine])\r\n",
        "    return qa_pairs"
      ],
      "execution_count": 5,
      "outputs": []
    },
    {
      "cell_type": "code",
      "metadata": {
        "colab": {
          "base_uri": "https://localhost:8080/"
        },
        "id": "9HxWyGLIrr_7",
        "outputId": "dd3ea602-a221-44f8-d5fe-24ef8972f0ae"
      },
      "source": [
        "# Define path to new file\r\n",
        "datafile = os.path.join(corpus, \"formatted_movie_lines.txt\")\r\n",
        "\r\n",
        "delimiter = '\\t'\r\n",
        "# Unescape the delimiter\r\n",
        "delimiter = str(codecs.decode(delimiter, \"unicode_escape\"))\r\n",
        "\r\n",
        "# Initialize lines dict, conversations list, and field ids\r\n",
        "lines = {}\r\n",
        "conversations = []\r\n",
        "MOVIE_LINES_FIELDS = [\"lineID\", \"characterID\", \"movieID\", \"character\", \"text\"]\r\n",
        "MOVIE_CONVERSATIONS_FIELDS = [\"character1ID\", \"character2ID\", \"movieID\", \"utteranceIDs\"]\r\n",
        "\r\n",
        "# Load lines and process conversations\r\n",
        "print(\"\\nProcessing corpus...\")\r\n",
        "lines = loadLines(os.path.join(corpus, \"movie_lines.txt\"), MOVIE_LINES_FIELDS)\r\n",
        "print(\"\\nLoading conversations...\")\r\n",
        "conversations = loadConversations(os.path.join(corpus, \"movie_conversations.txt\"),\r\n",
        "                                  lines, MOVIE_CONVERSATIONS_FIELDS)\r\n",
        "\r\n",
        "# Write new csv file\r\n",
        "print(\"\\nWriting newly formatted file...\")\r\n",
        "with open(datafile, 'w', encoding='utf-8') as outputfile:\r\n",
        "    writer = csv.writer(outputfile, delimiter=delimiter, lineterminator='\\n')\r\n",
        "    for pair in extractSentencePairs(conversations):\r\n",
        "        writer.writerow(pair)\r\n",
        "\r\n",
        "# Print a sample of lines\r\n",
        "print(\"\\nSample lines from file:\")\r\n",
        "printLines(datafile)"
      ],
      "execution_count": 6,
      "outputs": [
        {
          "output_type": "stream",
          "text": [
            "\n",
            "Processing corpus...\n",
            "\n",
            "Loading conversations...\n",
            "\n",
            "Writing newly formatted file...\n",
            "\n",
            "Sample lines from file:\n",
            "b\"Can we make this quick?  Roxanne Korrine and Andrew Barrett are having an incredibly horrendous public break- up on the quad.  Again.\\tWell, I thought we'd start with pronunciation, if that's okay with you.\\n\"\n",
            "b\"Well, I thought we'd start with pronunciation, if that's okay with you.\\tNot the hacking and gagging and spitting part.  Please.\\n\"\n",
            "b\"Not the hacking and gagging and spitting part.  Please.\\tOkay... then how 'bout we try out some French cuisine.  Saturday?  Night?\\n\"\n",
            "b\"You're asking me out.  That's so cute. What's your name again?\\tForget it.\\n\"\n",
            "b\"No, no, it's my fault -- we didn't have a proper introduction ---\\tCameron.\\n\"\n",
            "b\"Cameron.\\tThe thing is, Cameron -- I'm at the mercy of a particularly hideous breed of loser.  My sister.  I can't date until she does.\\n\"\n",
            "b\"The thing is, Cameron -- I'm at the mercy of a particularly hideous breed of loser.  My sister.  I can't date until she does.\\tSeems like she could get a date easy enough...\\n\"\n",
            "b'Why?\\tUnsolved mystery.  She used to be really popular when she started high school, then it was just like she got sick of it or something.\\n'\n",
            "b\"Unsolved mystery.  She used to be really popular when she started high school, then it was just like she got sick of it or something.\\tThat's a shame.\\n\"\n",
            "b'Gosh, if only we could find Kat a boyfriend...\\tLet me see what I can do.\\n'\n"
          ],
          "name": "stdout"
        }
      ]
    },
    {
      "cell_type": "code",
      "metadata": {
        "colab": {
          "base_uri": "https://localhost:8080/"
        },
        "id": "ejNtqcIJsHFE",
        "outputId": "fe0a5de0-384e-40b0-a3b4-6721d7bc5633"
      },
      "source": [
        "MAX_LENGTH = 10  # Maximum sentence length to consider\r\n",
        "\r\n",
        "# Turn a Unicode string to plain ASCII, thanks to\r\n",
        "# https://stackoverflow.com/a/518232/2809427\r\n",
        "def unicodeToAscii(s):\r\n",
        "    return ''.join(\r\n",
        "        c for c in unicodedata.normalize('NFD', s)\r\n",
        "        if unicodedata.category(c) != 'Mn'\r\n",
        "    )\r\n",
        "\r\n",
        "# Lowercase, trim, and remove non-letter characters\r\n",
        "def normalizeString(s):\r\n",
        "    s = unicodeToAscii(s.lower().strip())\r\n",
        "    s = re.sub(r\"([.!?])\", r\" \\1\", s)\r\n",
        "    s = re.sub(r\"[^a-zA-Z.!?]+\", r\" \", s)\r\n",
        "    s = re.sub(r\"\\s+\", r\" \", s).strip()\r\n",
        "    return s\r\n",
        "\r\n",
        "# Read query/response pairs and return a voc object\r\n",
        "def readVocs(datafile, corpus_name):\r\n",
        "    print(\"Reading lines...\")\r\n",
        "    # Read the file and split into lines\r\n",
        "    lines = open(datafile, encoding='utf-8').\\\r\n",
        "        read().strip().split('\\n')\r\n",
        "    # Split every line into pairs and normalize\r\n",
        "    pairs = [[normalizeString(s) for s in l.split('\\t')] for l in lines]\r\n",
        "    return pairs\r\n",
        "\r\n",
        "# Returns True iff both sentences in a pair 'p' are under the MAX_LENGTH threshold\r\n",
        "def filterPair(p):\r\n",
        "    # Input sequences need to preserve the last word for EOS token\r\n",
        "    return len(p[0].split(' ')) < MAX_LENGTH and len(p[1].split(' ')) < MAX_LENGTH\r\n",
        "\r\n",
        "# Filter pairs using filterPair condition\r\n",
        "def filterPairs(pairs):\r\n",
        "    return [pair for pair in pairs if filterPair(pair)]\r\n",
        "\r\n",
        "# Using the functions defined above, return a populated voc object and pairs list\r\n",
        "def loadPrepareData(corpus, corpus_name, datafile, save_dir):\r\n",
        "    print(\"Start preparing training data ...\")\r\n",
        "    pairs = readVocs(datafile, corpus_name)\r\n",
        "    print(\"Read {!s} sentence pairs\".format(len(pairs)))\r\n",
        "    pairs = filterPairs(pairs)\r\n",
        "    print(\"Trimmed to {!s} sentence pairs\".format(len(pairs)))\r\n",
        "    print(\"Counting words...\")\r\n",
        "\r\n",
        "    return pairs\r\n",
        "\r\n",
        "\r\n",
        "# Load/Assemble voc and pairs\r\n",
        "save_dir = os.path.join(\"data\", \"save\")\r\n",
        "print(corpus_name)\r\n",
        "pairs = loadPrepareData(corpus, corpus_name, datafile, save_dir)\r\n",
        "# Print some pairs to validate\r\n",
        "print(\"\\npairs:\")\r\n",
        "for pair in pairs[:10]:\r\n",
        "    print(pair)"
      ],
      "execution_count": 7,
      "outputs": [
        {
          "output_type": "stream",
          "text": [
            "cornell movie-dialogs corpus\n",
            "Start preparing training data ...\n",
            "Reading lines...\n",
            "Read 221282 sentence pairs\n",
            "Trimmed to 64271 sentence pairs\n",
            "Counting words...\n",
            "\n",
            "pairs:\n",
            "['there .', 'where ?']\n",
            "['you have my word . as a gentleman', 'you re sweet .']\n",
            "['hi .', 'looks like things worked out tonight huh ?']\n",
            "['you know chastity ?', 'i believe we share an art instructor']\n",
            "['have fun tonight ?', 'tons']\n",
            "['well no . . .', 'then that s all you had to say .']\n",
            "['then that s all you had to say .', 'but']\n",
            "['but', 'you always been this selfish ?']\n",
            "['do you listen to this crap ?', 'what crap ?']\n",
            "['what good stuff ?', 'the real you .']\n"
          ],
          "name": "stdout"
        }
      ]
    },
    {
      "cell_type": "code",
      "metadata": {
        "colab": {
          "base_uri": "https://localhost:8080/"
        },
        "id": "zblVmcMUwdkk",
        "outputId": "bd1abf8e-bd3c-4b43-8235-88ec0a0e313c"
      },
      "source": [
        "type(pairs)"
      ],
      "execution_count": 8,
      "outputs": [
        {
          "output_type": "execute_result",
          "data": {
            "text/plain": [
              "list"
            ]
          },
          "metadata": {
            "tags": []
          },
          "execution_count": 8
        }
      ]
    },
    {
      "cell_type": "code",
      "metadata": {
        "id": "RlpOyH61zR85"
      },
      "source": [
        "import spacy\r\n",
        "spacy_en = spacy.load('en')\r\n",
        "\r\n",
        "def tokenize_en(text):\r\n",
        "    \"\"\"\r\n",
        "    Tokenizes English text from a string into a list of strings\r\n",
        "    \"\"\"\r\n",
        "    return [tok.text for tok in spacy_en.tokenizer(text)]\r\n",
        "\r\n",
        "STAT = Field(tokenize= tokenize_en, \r\n",
        "            init_token='<sos>', \r\n",
        "            eos_token='<eos>', \r\n",
        "            lower=True,\r\n",
        "            batch_first=True,\r\n",
        "            include_lengths=True)\r\n",
        "\r\n",
        "RESP = Field(tokenize = tokenize_en, \r\n",
        "            init_token='<sos>', \r\n",
        "            eos_token='<eos>', \r\n",
        "            lower=True,\r\n",
        "            batch_first=True,\r\n",
        "            include_lengths=True)"
      ],
      "execution_count": 9,
      "outputs": []
    },
    {
      "cell_type": "code",
      "metadata": {
        "id": "naI-P4qw0Fyz"
      },
      "source": [
        "fields = {'Statement': ('s', STAT), 'Response': ('r', RESP)}"
      ],
      "execution_count": 10,
      "outputs": []
    },
    {
      "cell_type": "code",
      "metadata": {
        "colab": {
          "base_uri": "https://localhost:8080/"
        },
        "id": "A7eDwhrCPPzI",
        "outputId": "d7c75fd9-e50c-4a3b-f9fe-22784d4eee1d"
      },
      "source": [
        "len(pairs)"
      ],
      "execution_count": 11,
      "outputs": [
        {
          "output_type": "execute_result",
          "data": {
            "text/plain": [
              "64271"
            ]
          },
          "metadata": {
            "tags": []
          },
          "execution_count": 11
        }
      ]
    },
    {
      "cell_type": "code",
      "metadata": {
        "id": "cNsc7MdtG2eJ"
      },
      "source": [
        "# Adding custom dataset to the Torch Dataset Library\r\n",
        "import pandas as pd\r\n",
        "raw_data = {'Statement' : [stat[0] for stat in pairs], 'Response': [resp[1] for resp in pairs]}\r\n",
        "df = pd.DataFrame(raw_data, columns=[\"Statement\", \"Response\"])\r\n",
        "\r\n",
        "# Create vocab - min count = 3n"
      ],
      "execution_count": 12,
      "outputs": []
    },
    {
      "cell_type": "code",
      "metadata": {
        "colab": {
          "base_uri": "https://localhost:8080/",
          "height": 343
        },
        "id": "951kBlfT9LhZ",
        "outputId": "bddc0d4c-375f-41e7-d68e-b4c1f4a7fa8b"
      },
      "source": [
        "df.head(10)"
      ],
      "execution_count": 13,
      "outputs": [
        {
          "output_type": "execute_result",
          "data": {
            "text/html": [
              "<div>\n",
              "<style scoped>\n",
              "    .dataframe tbody tr th:only-of-type {\n",
              "        vertical-align: middle;\n",
              "    }\n",
              "\n",
              "    .dataframe tbody tr th {\n",
              "        vertical-align: top;\n",
              "    }\n",
              "\n",
              "    .dataframe thead th {\n",
              "        text-align: right;\n",
              "    }\n",
              "</style>\n",
              "<table border=\"1\" class=\"dataframe\">\n",
              "  <thead>\n",
              "    <tr style=\"text-align: right;\">\n",
              "      <th></th>\n",
              "      <th>Statement</th>\n",
              "      <th>Response</th>\n",
              "    </tr>\n",
              "  </thead>\n",
              "  <tbody>\n",
              "    <tr>\n",
              "      <th>0</th>\n",
              "      <td>there .</td>\n",
              "      <td>where ?</td>\n",
              "    </tr>\n",
              "    <tr>\n",
              "      <th>1</th>\n",
              "      <td>you have my word . as a gentleman</td>\n",
              "      <td>you re sweet .</td>\n",
              "    </tr>\n",
              "    <tr>\n",
              "      <th>2</th>\n",
              "      <td>hi .</td>\n",
              "      <td>looks like things worked out tonight huh ?</td>\n",
              "    </tr>\n",
              "    <tr>\n",
              "      <th>3</th>\n",
              "      <td>you know chastity ?</td>\n",
              "      <td>i believe we share an art instructor</td>\n",
              "    </tr>\n",
              "    <tr>\n",
              "      <th>4</th>\n",
              "      <td>have fun tonight ?</td>\n",
              "      <td>tons</td>\n",
              "    </tr>\n",
              "    <tr>\n",
              "      <th>5</th>\n",
              "      <td>well no . . .</td>\n",
              "      <td>then that s all you had to say .</td>\n",
              "    </tr>\n",
              "    <tr>\n",
              "      <th>6</th>\n",
              "      <td>then that s all you had to say .</td>\n",
              "      <td>but</td>\n",
              "    </tr>\n",
              "    <tr>\n",
              "      <th>7</th>\n",
              "      <td>but</td>\n",
              "      <td>you always been this selfish ?</td>\n",
              "    </tr>\n",
              "    <tr>\n",
              "      <th>8</th>\n",
              "      <td>do you listen to this crap ?</td>\n",
              "      <td>what crap ?</td>\n",
              "    </tr>\n",
              "    <tr>\n",
              "      <th>9</th>\n",
              "      <td>what good stuff ?</td>\n",
              "      <td>the real you .</td>\n",
              "    </tr>\n",
              "  </tbody>\n",
              "</table>\n",
              "</div>"
            ],
            "text/plain": [
              "                           Statement                                    Response\n",
              "0                            there .                                     where ?\n",
              "1  you have my word . as a gentleman                              you re sweet .\n",
              "2                               hi .  looks like things worked out tonight huh ?\n",
              "3                you know chastity ?        i believe we share an art instructor\n",
              "4                 have fun tonight ?                                        tons\n",
              "5                      well no . . .            then that s all you had to say .\n",
              "6   then that s all you had to say .                                         but\n",
              "7                                but              you always been this selfish ?\n",
              "8       do you listen to this crap ?                                 what crap ?\n",
              "9                  what good stuff ?                              the real you ."
            ]
          },
          "metadata": {
            "tags": []
          },
          "execution_count": 13
        }
      ]
    },
    {
      "cell_type": "code",
      "metadata": {
        "id": "feOoXWOdIs5E"
      },
      "source": [
        "# Dividing the data into train and validation dataset\r\n",
        "\r\n",
        "train_df = df.sample(frac = 0.90) \r\n",
        "  \r\n",
        "# Creating dataframe with rest of the 10% values \r\n",
        "valid_df = df.drop(train_df.index)"
      ],
      "execution_count": 14,
      "outputs": []
    },
    {
      "cell_type": "code",
      "metadata": {
        "colab": {
          "base_uri": "https://localhost:8080/"
        },
        "id": "QFxJxps7Pqws",
        "outputId": "42f19589-72a0-4c9b-c6c1-429ea3a23fb9"
      },
      "source": [
        "print(f'train df {train_df}')\r\n",
        "print(f'Valid df {valid_df}')\r\n",
        "\r\n",
        "train_df.to_csv('train.csv', index=False)\r\n",
        "valid_df.to_csv('valid.csv', index=False)"
      ],
      "execution_count": 15,
      "outputs": [
        {
          "output_type": "stream",
          "text": [
            "train df                                                Statement                            Response\n",
            "23669                                          yes sir .           a good man . good flyer .\n",
            "41914              oh will you stop attacking hannah ? !                              oh now\n",
            "41134                            sure but what is this ?     that s not your affair . name .\n",
            "51168  i ll investigate mr . clarendon s financial po...                i don t understand .\n",
            "56206                                what is it norman ?                     where are you ?\n",
            "...                                                  ...                                 ...\n",
            "41969                          yes you do recall right ?                      i recall you .\n",
            "41326                             that s wonderful mom .             what s a revival tent ?\n",
            "49794            well get a message through to him too .  brilliant . word perfect i d say .\n",
            "28424                                     some of them .                       stand still .\n",
            "60340                                             what ?   it s detonation cord for a bomb .\n",
            "\n",
            "[57844 rows x 2 columns]\n",
            "Valid df                                           Statement                        Response\n",
            "9                                 what good stuff ?                  the real you .\n",
            "15                                             no .  you might wanna think about it\n",
            "16                                            who ?                          joey .\n",
            "33                   wear the belly before you go .                      daddy no !\n",
            "55     gigglepuss is playing there tomorrow night .         don t make me do it man\n",
            "...                                             ...                             ...\n",
            "64207                                 where is he ?   how do you know it was a he ?\n",
            "64253                                  yes i know .    it wouldn t be fair to her .\n",
            "64257                   ready for fuchsmachen ? ? ?               mmmmmmmmmmmmmmm !\n",
            "64265                                        food !     do you have a reservation ?\n",
            "64268                 what o clock is it mr noggs ?          eleven o clock my lorj\n",
            "\n",
            "[6427 rows x 2 columns]\n"
          ],
          "name": "stdout"
        }
      ]
    },
    {
      "cell_type": "code",
      "metadata": {
        "id": "CSrReZKh-yfw"
      },
      "source": [
        "# Using tabular dataset to process the text\r\n",
        "\r\n",
        "train_data, test_data = TabularDataset.splits(\r\n",
        "                                path = '',   \r\n",
        "                                train = './train.csv',\r\n",
        "                                test = './valid.csv',\r\n",
        "                                format = 'csv',\r\n",
        "                                fields = fields)"
      ],
      "execution_count": 16,
      "outputs": []
    },
    {
      "cell_type": "code",
      "metadata": {
        "id": "HXcdLkAjIxth"
      },
      "source": [
        " BATCH_SIZE = 24\r\n",
        " device = \"cuda\" if torch.cuda.is_available() else \"cpu\""
      ],
      "execution_count": 17,
      "outputs": []
    },
    {
      "cell_type": "code",
      "metadata": {
        "id": "GmS_FDZFc0hW"
      },
      "source": [
        "STAT.build_vocab(train_data, min_freq = 3, max_size= 10000)\r\n",
        "RESP.build_vocab(test_data, min_freq = 3, max_size= 10000)"
      ],
      "execution_count": 18,
      "outputs": []
    },
    {
      "cell_type": "code",
      "metadata": {
        "id": "aNK-QfFRdJte"
      },
      "source": [
        "BATCH_SIZE = 24\r\n",
        "\r\n",
        "train_iterator, test_iterator = BucketIterator.splits(\r\n",
        "    (train_data, test_data), \r\n",
        "    batch_size = BATCH_SIZE,\r\n",
        "    sort=False,\r\n",
        "    device = device)"
      ],
      "execution_count": 19,
      "outputs": []
    },
    {
      "cell_type": "code",
      "metadata": {
        "id": "BTPXqCPatItl"
      },
      "source": [
        "class Encoder(nn.Module):\r\n",
        "    def __init__(self,\r\n",
        "                 input_dim,\r\n",
        "                 hid_dim,\r\n",
        "                 n_Layers,\r\n",
        "                 n_heads,\r\n",
        "                 pf_dim,\r\n",
        "                 dropout,\r\n",
        "                 device,\r\n",
        "                 max_length = 100):\r\n",
        "\r\n",
        "        \r\n",
        "        super().__init__()\r\n",
        "\r\n",
        "        self.device = device\r\n",
        "\r\n",
        "        # below we are breaking down the embedding into input and positional embedding\r\n",
        "        self.tok_embd = nn.Embedding(num_embeddings=input_dim, embedding_dim=hid_dim)\r\n",
        "        self.pos_embd = nn.Embedding(max_length, hid_dim)\r\n",
        "\r\n",
        "        # We also add layers for multi-headed processing\r\n",
        "\r\n",
        "        self.layers = nn.ModuleList([EncoderLayer(hid_dim,\r\n",
        "                                                  pf_dim,\r\n",
        "                                                  n_heads,\r\n",
        "                                                  dropout,\r\n",
        "                                                  device)\r\n",
        "                                    for _ in range(n_Layers)])\r\n",
        "\r\n",
        "        # When we add two embeddings, we multiply our embeddings with a scale parameter, which helps us to maintain\r\n",
        "        # our values in a certain range\r\n",
        "\r\n",
        "        self.scale = torch.sqrt(torch.FloatTensor([hid_dim])).to(device)\r\n",
        "\r\n",
        "        # Creating linear layer to reduce the dimension of the vector\r\n",
        "\r\n",
        "\r\n",
        "        # We also add a dropout value for regularization\r\n",
        "\r\n",
        "        self.dropout = nn.Dropout(dropout)\r\n",
        "\r\n",
        "    \r\n",
        "    def forward(self, input_src, src_mask):\r\n",
        "\r\n",
        "        # input_src = [batch_size, src_len]\r\n",
        "        batch_size = input_src.shape[0]\r\n",
        "        src_len = input_src.shape[1]\r\n",
        "\r\n",
        "        # Is src_len same in all the cases?\r\n",
        "\r\n",
        "        pos = torch.arange(0, src_len).unsqueeze(0).repeat(batch_size,1).to(self.device)\r\n",
        "        # print(f'Pos shape {pos.shape}, {input_src.shape}')\r\n",
        "        #pos = [batch_size, src_len]\r\n",
        "\r\n",
        "        input_embd = self.tok_embd(input_src)\r\n",
        "        pos_embd = self.pos_embd(pos)\r\n",
        "\r\n",
        "        # input_embd = pos_embd = [batch_size, src_len, embedding_dim]\r\n",
        "        src = self.dropout(input_embd*self.scale + pos_embd)\r\n",
        "        # src = [batch_size, src_len, hid_dim]\r\n",
        "\r\n",
        "        # what does encoder returns?\r\n",
        "        # \r\n",
        "        for layer in self.layers:\r\n",
        "            src = layer(src, src_mask)\r\n",
        "\r\n",
        "        return src\r\n"
      ],
      "execution_count": 20,
      "outputs": []
    },
    {
      "cell_type": "code",
      "metadata": {
        "id": "VyiBJ6LztLl0"
      },
      "source": [
        "class EncoderLayer(nn.Module):\r\n",
        "    def __init__(self,\r\n",
        "                 hid_dim,\r\n",
        "                 pf_dim,\r\n",
        "                 n_heads,\r\n",
        "                 dropout,\r\n",
        "                 device):\r\n",
        "        \r\n",
        "        super().__init__()\r\n",
        "        self.self_attn_layer_norm = nn.LayerNorm(hid_dim) # Layer norm after attention layer\r\n",
        "        self.self_ff_layer_norm = nn.LayerNorm(hid_dim) # Layer norm after feed forward layer\r\n",
        "        self.self_attention = MultiHeadAttention(hid_dim, n_heads, dropout, device) # Multi-head attention layer\r\n",
        "        self.positionwise_feedforward = PositionwiseFeedforwardLayer(hid_dim, pf_dim, dropout)\r\n",
        "        self.dropout = nn.Dropout(dropout) \r\n",
        "    \r\n",
        "    def forward(self, src, src_mask):\r\n",
        "        # what is src mask?????\r\n",
        "        # src = [batch_size, src_len, hid_dim]\r\n",
        "        # Why source has the hidden dim?\r\n",
        "        # src_mask = [batch_size, 1, 1, src_len]\r\n",
        "        \r\n",
        "        _src, _ = self.self_attention(src, src, src, src_mask) # Self attention layer\r\n",
        "        src = self.self_attn_layer_norm(self.dropout(_src) + src) # Add and Norm layer with residual connection\r\n",
        "\r\n",
        "        # src = [batch_size, src_len, hid_dim]\r\n",
        "        # Pointwise feedforward\r\n",
        "        _src = self.positionwise_feedforward(src)\r\n",
        "        src = self.self_ff_layer_norm(self.dropout(_src) + src)\r\n",
        "        # src = [batch_size, src len, hid_dim]\r\n",
        "        return src"
      ],
      "execution_count": 21,
      "outputs": []
    },
    {
      "cell_type": "code",
      "metadata": {
        "id": "xCiJEl_wtSDs"
      },
      "source": [
        "class MultiHeadAttention(nn.Module):\r\n",
        "    def __init__(self,\r\n",
        "                 hid_dim,\r\n",
        "                 n_heads,\r\n",
        "                 dropout,\r\n",
        "                 device):\r\n",
        "        \r\n",
        "        super().__init__()\r\n",
        "        self.hid_dim = hid_dim\r\n",
        "        self.n_heads = n_heads\r\n",
        "        self.head_dim = hid_dim//n_heads\r\n",
        "\r\n",
        "        self.fc_q = nn.Linear(hid_dim, hid_dim)\r\n",
        "        self.fc_k = nn.Linear(hid_dim, hid_dim)\r\n",
        "        self.fc_v = nn.Linear(hid_dim, hid_dim)\r\n",
        "\r\n",
        "        self.fc_o = nn.Linear(hid_dim, hid_dim)\r\n",
        "        \r\n",
        "        self.dropout = nn.Dropout(dropout)\r\n",
        "        self.scale = torch.sqrt(torch.FloatTensor([self.head_dim])).to(device)\r\n",
        "    \r\n",
        "    def forward(self, query, key, value, mask=None):\r\n",
        "\r\n",
        "        batch_size = query.shape[0]\r\n",
        "        # query = [batch size, query_len, hid_dim]\r\n",
        "        # key = [batch size, key_len, hid_dim]\r\n",
        "        # value = [batch size, value_len, hid_dim]\r\n",
        "\r\n",
        "        Q = self.fc_q(query)\r\n",
        "        K = self.fc_k(key)\r\n",
        "        V = self.fc_v(value)\r\n",
        "\r\n",
        "        # Q = [batch size, query_len, hid_dim]\r\n",
        "        # K = [batch size, key_len, hid_dim]\r\n",
        "        # V = [batch size, value_len, hid_dim]\r\n",
        "\r\n",
        "        # How hid_dim is divided into n_heads, head_dim?\r\n",
        "        # print('Attention batch, heads, head_dim', batch_size, -1, self.n_heads, self.head_dim)\r\n",
        "\r\n",
        "        Q = Q.view(batch_size, -1, self.n_heads, self.head_dim).permute(0, 2, 1, 3)\r\n",
        "        K = K.view(batch_size, -1, self.n_heads, self.head_dim).permute(0, 2, 1, 3)\r\n",
        "        V = V.view(batch_size, -1, self.n_heads, self.head_dim).permute(0, 2, 1, 3)\r\n",
        "\r\n",
        "        # Q=K=V = [batch_size, n_heads, query/key/value_len, head_dim]\r\n",
        "\r\n",
        "        # Transposing the input embedding and then doing matrix multiplication\r\n",
        "\r\n",
        "        # [batch_size, src_len, src_len]\r\n",
        "        energy = torch.matmul(Q, K.permute(0, 1, 3, 2))/ self.scale\r\n",
        "        # print('Shape of energy', energy.shape)\r\n",
        "        # energy = [batch_size, n_heads, query_len, key_length]\r\n",
        "        # As you can notice the head dim is not there in the energy vector. only query_len and key_len are there\r\n",
        "\r\n",
        "        # This energy is then multiplied with the value to calculate attention\r\n",
        "\r\n",
        "        if mask is not None:\r\n",
        "            # If mask values are close to zero, set it to very small values, we do this because?\r\n",
        "            energy = energy.masked_fill(mask == 0, -1e10)\r\n",
        "\r\n",
        "        # After matrix mul of query and key, and scaling we will apply softmax to get the output in a distribution of 0 to +1.\r\n",
        "        # This value will act as an attention vector for us\r\n",
        "\r\n",
        "        attention = torch.softmax(energy, dim=-1)\r\n",
        "\r\n",
        "        # Attention is then further multiplied by the values to get the contextual embeddings\r\n",
        "\r\n",
        "        x = torch.matmul(self.dropout(attention), V)\r\n",
        "\r\n",
        "        #x = [batch_size, query_length, n_heads, hid_dim]\r\n",
        "\r\n",
        "        x = x.permute(0, 2, 1, 3).contiguous()\r\n",
        "        #x = [batch_size, n_heads, query_length, hid_dim]\r\n",
        "\r\n",
        "        x = x.view(batch_size, -1, self.hid_dim)\r\n",
        "\r\n",
        "        #x = [batch_size, query_len, hid_dim]\r\n",
        "\r\n",
        "        x = self.fc_o(x)\r\n",
        "\r\n",
        "        #x = [batch_size, query_len, hid_dim]\r\n",
        "\r\n",
        "        return x, attention"
      ],
      "execution_count": 22,
      "outputs": []
    },
    {
      "cell_type": "code",
      "metadata": {
        "id": "rQWXyqhetUaL"
      },
      "source": [
        "class PositionwiseFeedforwardLayer(nn.Module):\r\n",
        "    def __init__(self, hid_dim, pf_dim, dropout):\r\n",
        "        super().__init__()\r\n",
        "\r\n",
        "        self.fc1 = nn.Linear(hid_dim, pf_dim)\r\n",
        "        self.fc2 = nn.Linear(pf_dim, hid_dim)\r\n",
        "\r\n",
        "        self.dropout = nn.Dropout(dropout)\r\n",
        "\r\n",
        "    def forward(self, x):\r\n",
        "        # x = [batch_size, seq_len, hid_dim] \r\n",
        "        x = self.dropout(torch.relu(self.fc1(x)))\r\n",
        "        x = self.fc2(x)\r\n",
        "        # x = [batch_size, seq_len, hid_dim]\r\n",
        "\r\n",
        "        return x"
      ],
      "execution_count": 23,
      "outputs": []
    },
    {
      "cell_type": "code",
      "metadata": {
        "id": "DBbBmWv5tZAk"
      },
      "source": [
        "class Decoder(nn.Module):\r\n",
        "    def __init__(self,\r\n",
        "                 output_dim,\r\n",
        "                 hid_dim,\r\n",
        "                 n_layers,\r\n",
        "                 n_heads,\r\n",
        "                 pf_dim,\r\n",
        "                 dropout,\r\n",
        "                 device,\r\n",
        "                 max_length=100):\r\n",
        "\r\n",
        "        super().__init__()\r\n",
        "        self.device = device\r\n",
        "        self.dropout = nn.Dropout(dropout)\r\n",
        "\r\n",
        "        self.tok_embd = nn.Embedding(output_dim, hid_dim)\r\n",
        "        self.pos_embd = nn.Embedding(max_length, hid_dim)\r\n",
        "\r\n",
        "        self.layers = nn.ModuleList([DecoderLayer(hid_dim, \r\n",
        "                                                  n_heads, \r\n",
        "                                                  pf_dim, \r\n",
        "                                                  dropout, \r\n",
        "                                                  device)\r\n",
        "                                     for _ in range(n_layers)])\r\n",
        "        \r\n",
        "        self.scale = torch.sqrt(torch.FloatTensor([hid_dim])).to(device)\r\n",
        "        self.fc_out = nn.Linear(hid_dim, output_dim)\r\n",
        "    \r\n",
        "    def forward(self, trg, enc_src, trg_mask, src_mask):\r\n",
        "\r\n",
        "        # src = [batch_size, trg_len]\r\n",
        "\r\n",
        "        batch_size = trg.shape[0]\r\n",
        "        trg_len = trg.shape[1]\r\n",
        "\r\n",
        "        pos = torch.arange(0, trg_len).unsqueeze(0).repeat(batch_size,1).to(device)\r\n",
        "\r\n",
        "        # pos = [batch_size, trg_len]\r\n",
        "\r\n",
        "        trg = self.dropout(self.tok_embd(trg)* self.scale + self.pos_embd(pos))\r\n",
        "\r\n",
        "        for layer in self.layers:\r\n",
        "            # Why src_mask and trg_mask\r\n",
        "            trg, attention = layer(trg, enc_src, trg_mask, src_mask)\r\n",
        "        \r\n",
        "        output = self.fc_out(trg)\r\n",
        "        # output = [batch_size, trg_len, output_dim, ]\r\n",
        "        return output, attention"
      ],
      "execution_count": 24,
      "outputs": []
    },
    {
      "cell_type": "code",
      "metadata": {
        "id": "ru5qxkdctZ27"
      },
      "source": [
        "class DecoderLayer(nn.Module):\r\n",
        "    def __init__(self,\r\n",
        "                 hid_dim,\r\n",
        "                 n_heads,\r\n",
        "                 pf_dim,\r\n",
        "                 dropout,\r\n",
        "                 device):\r\n",
        "        super().__init__()\r\n",
        "\r\n",
        "        self.self_attn_lyr_norm = nn.LayerNorm(hid_dim)\r\n",
        "        self.enc_attn_lyr_norm = nn.LayerNorm(hid_dim)\r\n",
        "        self.ff_layer_norm = nn.LayerNorm(hid_dim)\r\n",
        "        self.self_attention = MultiHeadAttention(hid_dim, n_heads, dropout, device)\r\n",
        "        self.encoder_attention = MultiHeadAttention(hid_dim, n_heads, dropout, device)\r\n",
        "        self.positionwise_feedforward = PositionwiseFeedforwardLayer(hid_dim, pf_dim, dropout)\r\n",
        "\r\n",
        "        self.dropout = nn.Dropout(dropout)\r\n",
        "\r\n",
        "    def forward(self, trg, enc_src, trg_mask, src_mask):\r\n",
        "        # trg = [batch_size, trg_len, hid_dim]\r\n",
        "        # enc_src = [batch_size, src_len, hid_dim]\r\n",
        "        # trg_mask = [batch_size, 1, trg_len, trg_len]\r\n",
        "        # src_mask = [batch_size, 1, 1, src_len]\r\n",
        "\r\n",
        "        # Self \r\n",
        "        # print('Target shape and mask', trg.shape, trg_mask.shape)\r\n",
        "        _trg, _ = self.self_attention(trg, trg, trg, trg_mask)\r\n",
        "\r\n",
        "        # Layer Norm - Dropout, Relu, residual connection\r\n",
        "        trg = self.self_attn_lyr_norm(self.dropout(_trg) + trg)\r\n",
        "\r\n",
        "        # query, key, value\r\n",
        "        _trg, attention = self.encoder_attention(trg, enc_src, enc_src, src_mask)\r\n",
        "        trg = self.enc_attn_lyr_norm(self.dropout(_trg) + trg)\r\n",
        "\r\n",
        "        trg = self.positionwise_feedforward(trg)\r\n",
        "        # trg = [batch_size, trg_len, hid_dim]\r\n",
        "        # attention = [batch_size, n_heads, trg_len, src_len]\r\n",
        "\r\n",
        "        trg = self.ff_layer_norm(trg + self.dropout(_trg))\r\n",
        "        return trg, attention"
      ],
      "execution_count": 25,
      "outputs": []
    },
    {
      "cell_type": "code",
      "metadata": {
        "id": "1uZ2I2Ictfj0"
      },
      "source": [
        "class Seq2Seq(nn.Module):\r\n",
        "    def __init__(self,\r\n",
        "                 encoder,\r\n",
        "                 decoder,\r\n",
        "                 src_pad_idx,\r\n",
        "                 trg_pad_idx,\r\n",
        "                 device):\r\n",
        "        \r\n",
        "        super().__init__()\r\n",
        "\r\n",
        "        self.encoder = encoder\r\n",
        "        self.decoder = decoder\r\n",
        "        self.src_pad_idx = src_pad_idx\r\n",
        "        self.trg_pad_idx = trg_pad_idx\r\n",
        "        self.device = device\r\n",
        "        \r\n",
        "    def make_src_mask(self, src):\r\n",
        "\r\n",
        "        # src = [batch_size, src_len]\r\n",
        "        src_mask = (src != self.src_pad_idx).unsqueeze(1).unsqueeze(2)\r\n",
        "\r\n",
        "        # src_mask = [batch_size, 1, 1, src_len]\r\n",
        "\r\n",
        "        return src_mask\r\n",
        "\r\n",
        "    def make_trg_mask(self, trg):\r\n",
        "        # trg = [batch_size, trg_len]\r\n",
        "        trg_pad_mask = (trg != self.trg_pad_idx).unsqueeze(1).unsqueeze(2)\r\n",
        "        # print(f'Make target mask {trg.shape}, {trg_pad_mask.shape}')\r\n",
        "        # trg_mask = [batch_size, 1, 1, trg_len]\r\n",
        "    \r\n",
        "        trg_len = trg.shape[1]\r\n",
        "        \r\n",
        "        trg_sub_mask = torch.tril(torch.ones((trg_len, trg_len), device=self.device)).bool()\r\n",
        "        \r\n",
        "        #trg_mask = [batch_size, 1, trg_len, trg_len]\r\n",
        "        \r\n",
        "        trg_mask = trg_pad_mask & trg_sub_mask # What is this & operator???\r\n",
        "\r\n",
        "        # trg_mask = [batch_size, 1, trg_len, trg_len]\r\n",
        "        # print(f'Target mask shape make_trg_mask {trg_mask.shape}')\r\n",
        "\r\n",
        "        return trg_mask\r\n",
        "\r\n",
        "    def forward(self, src, trg):\r\n",
        "        # src = [batch_size, src_len]\r\n",
        "        # trg = [batch_size, trg_len]\r\n",
        "        src_mask = self.make_src_mask(src)\r\n",
        "        trg_mask = self.make_trg_mask(trg)\r\n",
        "\r\n",
        "        enc_src = self.encoder(src, src_mask)\r\n",
        "\r\n",
        "        # enc_src = [batch_size, src_len, hid_dim, output_dim]\r\n",
        "        \r\n",
        "        output, attention = self.decoder(trg, enc_src, trg_mask, src_mask)\r\n",
        "\r\n",
        "        # output = [batch_size, trg_len, output_dim]\r\n",
        "        # attention = [batch_size, n_heads, trg_len, src_len]\r\n",
        "\r\n",
        "        return output, attention"
      ],
      "execution_count": 26,
      "outputs": []
    },
    {
      "cell_type": "code",
      "metadata": {
        "id": "VcXpTyHnt58l"
      },
      "source": [
        "INPUT_DIM = len(STAT.vocab)\r\n",
        "OUTPUT_DIM = len(RESP.vocab)\r\n",
        "HID_DIM = 256\r\n",
        "ENC_LAYERS = 3\r\n",
        "DEC_LAYERS = 3\r\n",
        "ENC_HEADS = 8\r\n",
        "DEC_HEADS = 8\r\n",
        "ENC_PF_DIM = 512\r\n",
        "DEC_PF_DIM = 512\r\n",
        "ENC_DROPOUT = 0.1\r\n",
        "DEC_DROPOUT = 0.1\r\n",
        "\r\n",
        "enc = Encoder(INPUT_DIM, \r\n",
        "              HID_DIM, \r\n",
        "              ENC_LAYERS, \r\n",
        "              ENC_HEADS, \r\n",
        "              ENC_PF_DIM, \r\n",
        "              ENC_DROPOUT, \r\n",
        "              device)\r\n",
        "\r\n",
        "\r\n",
        "dec = Decoder(OUTPUT_DIM, \r\n",
        "              HID_DIM, \r\n",
        "              DEC_LAYERS, \r\n",
        "              DEC_HEADS, \r\n",
        "              DEC_PF_DIM, \r\n",
        "              DEC_DROPOUT,\r\n",
        "              device)"
      ],
      "execution_count": 27,
      "outputs": []
    },
    {
      "cell_type": "code",
      "metadata": {
        "id": "y40LljFle4pV"
      },
      "source": [
        "SRC_PAD_IDX = STAT.vocab.stoi[STAT.pad_token]\r\n",
        "TRG_PAD_IDX = RESP.vocab.stoi[RESP.pad_token]\r\n",
        "\r\n",
        "model = Seq2Seq(enc, dec, SRC_PAD_IDX, TRG_PAD_IDX, device).to(device)"
      ],
      "execution_count": 28,
      "outputs": []
    },
    {
      "cell_type": "code",
      "metadata": {
        "colab": {
          "base_uri": "https://localhost:8080/"
        },
        "id": "QT0fUgpze00M",
        "outputId": "f72862df-5e39-4893-9753-873174224e7f"
      },
      "source": [
        "# Applied Xaviar uniform instead of \r\n",
        "def init_weights(m):\r\n",
        "    for name, param in m.named_parameters():\r\n",
        "        if hasattr(m, 'weight') and m.weight.dim() > 1:\r\n",
        "            nn.init.xavier_uniform_(m.weight.data)\r\n",
        "        else:\r\n",
        "            nn.init.constant_(param.data, 0)\r\n",
        "            \r\n",
        "model.apply(init_weights)"
      ],
      "execution_count": 29,
      "outputs": [
        {
          "output_type": "execute_result",
          "data": {
            "text/plain": [
              "Seq2Seq(\n",
              "  (encoder): Encoder(\n",
              "    (tok_embd): Embedding(4577, 256)\n",
              "    (pos_embd): Embedding(100, 256)\n",
              "    (layers): ModuleList(\n",
              "      (0): EncoderLayer(\n",
              "        (self_attn_layer_norm): LayerNorm((256,), eps=1e-05, elementwise_affine=True)\n",
              "        (self_ff_layer_norm): LayerNorm((256,), eps=1e-05, elementwise_affine=True)\n",
              "        (self_attention): MultiHeadAttention(\n",
              "          (fc_q): Linear(in_features=256, out_features=256, bias=True)\n",
              "          (fc_k): Linear(in_features=256, out_features=256, bias=True)\n",
              "          (fc_v): Linear(in_features=256, out_features=256, bias=True)\n",
              "          (fc_o): Linear(in_features=256, out_features=256, bias=True)\n",
              "          (dropout): Dropout(p=0.1, inplace=False)\n",
              "        )\n",
              "        (positionwise_feedforward): PositionwiseFeedforwardLayer(\n",
              "          (fc1): Linear(in_features=256, out_features=512, bias=True)\n",
              "          (fc2): Linear(in_features=512, out_features=256, bias=True)\n",
              "          (dropout): Dropout(p=0.1, inplace=False)\n",
              "        )\n",
              "        (dropout): Dropout(p=0.1, inplace=False)\n",
              "      )\n",
              "      (1): EncoderLayer(\n",
              "        (self_attn_layer_norm): LayerNorm((256,), eps=1e-05, elementwise_affine=True)\n",
              "        (self_ff_layer_norm): LayerNorm((256,), eps=1e-05, elementwise_affine=True)\n",
              "        (self_attention): MultiHeadAttention(\n",
              "          (fc_q): Linear(in_features=256, out_features=256, bias=True)\n",
              "          (fc_k): Linear(in_features=256, out_features=256, bias=True)\n",
              "          (fc_v): Linear(in_features=256, out_features=256, bias=True)\n",
              "          (fc_o): Linear(in_features=256, out_features=256, bias=True)\n",
              "          (dropout): Dropout(p=0.1, inplace=False)\n",
              "        )\n",
              "        (positionwise_feedforward): PositionwiseFeedforwardLayer(\n",
              "          (fc1): Linear(in_features=256, out_features=512, bias=True)\n",
              "          (fc2): Linear(in_features=512, out_features=256, bias=True)\n",
              "          (dropout): Dropout(p=0.1, inplace=False)\n",
              "        )\n",
              "        (dropout): Dropout(p=0.1, inplace=False)\n",
              "      )\n",
              "      (2): EncoderLayer(\n",
              "        (self_attn_layer_norm): LayerNorm((256,), eps=1e-05, elementwise_affine=True)\n",
              "        (self_ff_layer_norm): LayerNorm((256,), eps=1e-05, elementwise_affine=True)\n",
              "        (self_attention): MultiHeadAttention(\n",
              "          (fc_q): Linear(in_features=256, out_features=256, bias=True)\n",
              "          (fc_k): Linear(in_features=256, out_features=256, bias=True)\n",
              "          (fc_v): Linear(in_features=256, out_features=256, bias=True)\n",
              "          (fc_o): Linear(in_features=256, out_features=256, bias=True)\n",
              "          (dropout): Dropout(p=0.1, inplace=False)\n",
              "        )\n",
              "        (positionwise_feedforward): PositionwiseFeedforwardLayer(\n",
              "          (fc1): Linear(in_features=256, out_features=512, bias=True)\n",
              "          (fc2): Linear(in_features=512, out_features=256, bias=True)\n",
              "          (dropout): Dropout(p=0.1, inplace=False)\n",
              "        )\n",
              "        (dropout): Dropout(p=0.1, inplace=False)\n",
              "      )\n",
              "    )\n",
              "    (dropout): Dropout(p=0.1, inplace=False)\n",
              "  )\n",
              "  (decoder): Decoder(\n",
              "    (dropout): Dropout(p=0.1, inplace=False)\n",
              "    (tok_embd): Embedding(887, 256)\n",
              "    (pos_embd): Embedding(100, 256)\n",
              "    (layers): ModuleList(\n",
              "      (0): DecoderLayer(\n",
              "        (self_attn_lyr_norm): LayerNorm((256,), eps=1e-05, elementwise_affine=True)\n",
              "        (enc_attn_lyr_norm): LayerNorm((256,), eps=1e-05, elementwise_affine=True)\n",
              "        (ff_layer_norm): LayerNorm((256,), eps=1e-05, elementwise_affine=True)\n",
              "        (self_attention): MultiHeadAttention(\n",
              "          (fc_q): Linear(in_features=256, out_features=256, bias=True)\n",
              "          (fc_k): Linear(in_features=256, out_features=256, bias=True)\n",
              "          (fc_v): Linear(in_features=256, out_features=256, bias=True)\n",
              "          (fc_o): Linear(in_features=256, out_features=256, bias=True)\n",
              "          (dropout): Dropout(p=0.1, inplace=False)\n",
              "        )\n",
              "        (encoder_attention): MultiHeadAttention(\n",
              "          (fc_q): Linear(in_features=256, out_features=256, bias=True)\n",
              "          (fc_k): Linear(in_features=256, out_features=256, bias=True)\n",
              "          (fc_v): Linear(in_features=256, out_features=256, bias=True)\n",
              "          (fc_o): Linear(in_features=256, out_features=256, bias=True)\n",
              "          (dropout): Dropout(p=0.1, inplace=False)\n",
              "        )\n",
              "        (positionwise_feedforward): PositionwiseFeedforwardLayer(\n",
              "          (fc1): Linear(in_features=256, out_features=512, bias=True)\n",
              "          (fc2): Linear(in_features=512, out_features=256, bias=True)\n",
              "          (dropout): Dropout(p=0.1, inplace=False)\n",
              "        )\n",
              "        (dropout): Dropout(p=0.1, inplace=False)\n",
              "      )\n",
              "      (1): DecoderLayer(\n",
              "        (self_attn_lyr_norm): LayerNorm((256,), eps=1e-05, elementwise_affine=True)\n",
              "        (enc_attn_lyr_norm): LayerNorm((256,), eps=1e-05, elementwise_affine=True)\n",
              "        (ff_layer_norm): LayerNorm((256,), eps=1e-05, elementwise_affine=True)\n",
              "        (self_attention): MultiHeadAttention(\n",
              "          (fc_q): Linear(in_features=256, out_features=256, bias=True)\n",
              "          (fc_k): Linear(in_features=256, out_features=256, bias=True)\n",
              "          (fc_v): Linear(in_features=256, out_features=256, bias=True)\n",
              "          (fc_o): Linear(in_features=256, out_features=256, bias=True)\n",
              "          (dropout): Dropout(p=0.1, inplace=False)\n",
              "        )\n",
              "        (encoder_attention): MultiHeadAttention(\n",
              "          (fc_q): Linear(in_features=256, out_features=256, bias=True)\n",
              "          (fc_k): Linear(in_features=256, out_features=256, bias=True)\n",
              "          (fc_v): Linear(in_features=256, out_features=256, bias=True)\n",
              "          (fc_o): Linear(in_features=256, out_features=256, bias=True)\n",
              "          (dropout): Dropout(p=0.1, inplace=False)\n",
              "        )\n",
              "        (positionwise_feedforward): PositionwiseFeedforwardLayer(\n",
              "          (fc1): Linear(in_features=256, out_features=512, bias=True)\n",
              "          (fc2): Linear(in_features=512, out_features=256, bias=True)\n",
              "          (dropout): Dropout(p=0.1, inplace=False)\n",
              "        )\n",
              "        (dropout): Dropout(p=0.1, inplace=False)\n",
              "      )\n",
              "      (2): DecoderLayer(\n",
              "        (self_attn_lyr_norm): LayerNorm((256,), eps=1e-05, elementwise_affine=True)\n",
              "        (enc_attn_lyr_norm): LayerNorm((256,), eps=1e-05, elementwise_affine=True)\n",
              "        (ff_layer_norm): LayerNorm((256,), eps=1e-05, elementwise_affine=True)\n",
              "        (self_attention): MultiHeadAttention(\n",
              "          (fc_q): Linear(in_features=256, out_features=256, bias=True)\n",
              "          (fc_k): Linear(in_features=256, out_features=256, bias=True)\n",
              "          (fc_v): Linear(in_features=256, out_features=256, bias=True)\n",
              "          (fc_o): Linear(in_features=256, out_features=256, bias=True)\n",
              "          (dropout): Dropout(p=0.1, inplace=False)\n",
              "        )\n",
              "        (encoder_attention): MultiHeadAttention(\n",
              "          (fc_q): Linear(in_features=256, out_features=256, bias=True)\n",
              "          (fc_k): Linear(in_features=256, out_features=256, bias=True)\n",
              "          (fc_v): Linear(in_features=256, out_features=256, bias=True)\n",
              "          (fc_o): Linear(in_features=256, out_features=256, bias=True)\n",
              "          (dropout): Dropout(p=0.1, inplace=False)\n",
              "        )\n",
              "        (positionwise_feedforward): PositionwiseFeedforwardLayer(\n",
              "          (fc1): Linear(in_features=256, out_features=512, bias=True)\n",
              "          (fc2): Linear(in_features=512, out_features=256, bias=True)\n",
              "          (dropout): Dropout(p=0.1, inplace=False)\n",
              "        )\n",
              "        (dropout): Dropout(p=0.1, inplace=False)\n",
              "      )\n",
              "    )\n",
              "    (fc_out): Linear(in_features=256, out_features=887, bias=True)\n",
              "  )\n",
              ")"
            ]
          },
          "metadata": {
            "tags": []
          },
          "execution_count": 29
        }
      ]
    },
    {
      "cell_type": "code",
      "metadata": {
        "id": "0GvmixuruTRP"
      },
      "source": [
        "def initialize_weights(m):\r\n",
        "    if hasattr(m, 'weight') and m.weight.dim() > 1:\r\n",
        "        nn.init.xavier_uniform_(m.weight.data)"
      ],
      "execution_count": 30,
      "outputs": []
    },
    {
      "cell_type": "code",
      "metadata": {
        "id": "yX92-2RKXJwu"
      },
      "source": [
        "criterion = nn.CrossEntropyLoss(ignore_index = TRG_PAD_IDX)"
      ],
      "execution_count": 31,
      "outputs": []
    },
    {
      "cell_type": "code",
      "metadata": {
        "id": "8cbgN0QluWNU"
      },
      "source": [
        "model.apply(initialize_weights);"
      ],
      "execution_count": 32,
      "outputs": []
    },
    {
      "cell_type": "code",
      "metadata": {
        "id": "Yd9miRObuers"
      },
      "source": [
        "def maskNLLLoss(inp, target, mask):\r\n",
        "    nTotal = mask.sum()\r\n",
        "    crossEntropy = -torch.log(torch.gather(inp, 1, target.view(-1, 1)).squeeze(1))\r\n",
        "    loss = crossEntropy.masked_select(mask).mean()\r\n",
        "    loss = loss.to(device)\r\n",
        "    return loss, nTotal.item()"
      ],
      "execution_count": 33,
      "outputs": []
    },
    {
      "cell_type": "code",
      "metadata": {
        "id": "LY3-ZVryj-CA"
      },
      "source": [
        "LEARNING_RATE = 0.0005\r\n",
        "optimizer = torch.optim.Adam(model.parameters(), lr = LEARNING_RATE)"
      ],
      "execution_count": 34,
      "outputs": []
    },
    {
      "cell_type": "code",
      "metadata": {
        "id": "-x1FVVxcuj3c"
      },
      "source": [
        "# Model Training code\r\n",
        "\r\n",
        "def train(model,\r\n",
        "          iterator,\r\n",
        "          optimizer,\r\n",
        "          criterion,\r\n",
        "          clip):\r\n",
        "    \r\n",
        "    model.train()\r\n",
        "    epoch_loss = 0\r\n",
        "\r\n",
        "    for i, batch in enumerate(iterator):\r\n",
        "\r\n",
        "        src, src_len = batch.s\r\n",
        "        trg, trg_len = batch.r\r\n",
        "\r\n",
        "        optimizer.zero_grad()\r\n",
        "        output, _ = model(src, trg[:,:-1])\r\n",
        "\r\n",
        "        # output = [batch_size, trg_len-1, output_dim]\r\n",
        "\r\n",
        "        output_dim = output.shape[-1]\r\n",
        "            \r\n",
        "        output = output.contiguous().view(-1, output_dim)\r\n",
        "        trg = trg[:,1:].contiguous().view(-1)\r\n",
        "        loss = criterion(output, trg)\r\n",
        "\r\n",
        "        # Perform backpropatation\r\n",
        "        loss.backward()\r\n",
        "\r\n",
        "        # Clip gradients: gradients are modified in place\r\n",
        "        torch.nn.utils.clip_grad_norm_(model.parameters(), clip)\r\n",
        "\r\n",
        "        # Adjust model weights\r\n",
        "        optimizer.step()\r\n",
        "        epoch_loss += loss.item()\r\n",
        "\r\n",
        "    return epoch_loss / len(iterator)"
      ],
      "execution_count": 35,
      "outputs": []
    },
    {
      "cell_type": "code",
      "metadata": {
        "id": "MyMOrAIiwn5f"
      },
      "source": [
        "def evaluate(model, iterator, criterion):\r\n",
        "\r\n",
        "    model.eval()\r\n",
        "    epoch_loss = 0\r\n",
        "\r\n",
        "    with torch.no_grad():\r\n",
        "        \r\n",
        "        for i, batch in enumerate(iterator):\r\n",
        "\r\n",
        "            src, src_len = batch.s\r\n",
        "            trg, trg_len = batch.r\r\n",
        "\r\n",
        "            output, _ = model(src, trg[:,:-1])\r\n",
        "\r\n",
        "            #output = [batch_size, trg_len-1, outputdim]\r\n",
        "            #trg = [batch_size, trg_len]\r\n",
        "\r\n",
        "            output_dim = output.shape[-1]\r\n",
        "\r\n",
        "            output = output.contiguous().view(-1, output_dim)\r\n",
        "            trg = trg[:,1:].contiguous().view(-1)\r\n",
        "\r\n",
        "            loss = criterion(output, trg)\r\n",
        "            epoch_loss +=loss.item()\r\n",
        "\r\n",
        "    return epoch_loss/len(iterator)\r\n"
      ],
      "execution_count": 36,
      "outputs": []
    },
    {
      "cell_type": "code",
      "metadata": {
        "id": "Aklpg_9e4COl"
      },
      "source": [
        "def epoch_time(start_time, end_time):\r\n",
        "    elapsed_time = end_time - start_time\r\n",
        "    elapsed_mins = int(elapsed_time / 60)\r\n",
        "    elapsed_secs = int(elapsed_time - (elapsed_mins * 60))\r\n",
        "    return elapsed_mins, elapsed_secs"
      ],
      "execution_count": 38,
      "outputs": []
    },
    {
      "cell_type": "code",
      "metadata": {
        "colab": {
          "base_uri": "https://localhost:8080/"
        },
        "id": "BoSD6oeEW84z",
        "outputId": "d0bf6b33-5853-47c9-8b80-677e861fe078"
      },
      "source": [
        "import time\r\n",
        "N_EPOCHS = 10\r\n",
        "CLIP = 1\r\n",
        "\r\n",
        "best_valid_loss = float('inf')\r\n",
        "\r\n",
        "for epoch in range(N_EPOCHS):\r\n",
        "    \r\n",
        "    start_time = time.time()\r\n",
        "    \r\n",
        "    train_loss = train(model, train_iterator, optimizer, criterion, CLIP)\r\n",
        "    valid_loss = evaluate(model, test_iterator, criterion)\r\n",
        "    \r\n",
        "    end_time = time.time()\r\n",
        "    \r\n",
        "    epoch_mins, epoch_secs = epoch_time(start_time, end_time)\r\n",
        "    \r\n",
        "    if valid_loss < best_valid_loss:\r\n",
        "        best_valid_loss = valid_loss\r\n",
        "        torch.save(model.state_dict(), 'tut6-model.pt')\r\n",
        "    \r\n",
        "    print(f'Epoch: {epoch+1:02} | Time: {epoch_mins}m {epoch_secs}s')\r\n",
        "    print(f'\\tTrain Loss: {train_loss:.3f} | Train PPL: {math.exp(train_loss):7.3f}')\r\n",
        "    print(f'\\t Val. Loss: {valid_loss:.3f} |  Val. PPL: {math.exp(valid_loss):7.3f}')"
      ],
      "execution_count": null,
      "outputs": [
        {
          "output_type": "stream",
          "text": [
            "Epoch: 01 | Time: 1m 40s\n",
            "\tTrain Loss: 4.202 | Train PPL:  66.818\n",
            "\t Val. Loss: 4.331 |  Val. PPL:  76.056\n",
            "Epoch: 02 | Time: 1m 39s\n",
            "\tTrain Loss: 4.202 | Train PPL:  66.789\n",
            "\t Val. Loss: 4.330 |  Val. PPL:  75.961\n",
            "Epoch: 03 | Time: 1m 39s\n",
            "\tTrain Loss: 4.202 | Train PPL:  66.800\n",
            "\t Val. Loss: 4.330 |  Val. PPL:  75.913\n",
            "Epoch: 04 | Time: 1m 39s\n",
            "\tTrain Loss: 4.201 | Train PPL:  66.761\n",
            "\t Val. Loss: 4.330 |  Val. PPL:  75.929\n",
            "Epoch: 05 | Time: 1m 40s\n",
            "\tTrain Loss: 4.201 | Train PPL:  66.721\n",
            "\t Val. Loss: 4.330 |  Val. PPL:  75.962\n"
          ],
          "name": "stdout"
        }
      ]
    },
    {
      "cell_type": "code",
      "metadata": {
        "id": "uzi4SaFAWy5I"
      },
      "source": [
        ""
      ],
      "execution_count": null,
      "outputs": []
    }
  ]
}